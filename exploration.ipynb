{
 "cells": [
  {
   "cell_type": "code",
   "execution_count": 1,
   "metadata": {},
   "outputs": [],
   "source": [
    "from src.fusion_solar_py.client import FusionSolarClient\n",
    "import json"
   ]
  },
  {
   "cell_type": "code",
   "execution_count": 2,
   "metadata": {},
   "outputs": [],
   "source": [
    "# log into the API - with proper credentials...\n",
    "# Read YAML file\n",
    "ROOT_DIR=\".\"\n",
    "\n",
    "import json\n",
    "with open(f\"{ROOT_DIR}/tests/credentials.json\", 'r') as stream:\n",
    "    cred = json.load(stream)\n",
    "\n",
    "client = FusionSolarClient(cred['username'], cred['password'], huawei_subdomain='region04eu5')\n"
   ]
  },
  {
   "cell_type": "code",
   "execution_count": 3,
   "metadata": {},
   "outputs": [],
   "source": [
    "client.login()"
   ]
  },
  {
   "cell_type": "code",
   "execution_count": 4,
   "metadata": {},
   "outputs": [],
   "source": [
    "plants = client.get_plants()"
   ]
  },
  {
   "cell_type": "code",
   "execution_count": 5,
   "metadata": {},
   "outputs": [
    {
     "name": "stdout",
     "output_type": "stream",
     "text": [
      "steenhof huawei\n"
     ]
    }
   ],
   "source": [
    "for plant in plants:\n",
    "    print(plant.name)\n",
    "    # print(json.dumps(plant.get_plant_flow(), indent=4))\n",
    "    # r= plant.get_plant_stats(return_resp=True)"
   ]
  },
  {
   "cell_type": "code",
   "execution_count": 6,
   "metadata": {},
   "outputs": [],
   "source": [
    "devices = client.get_devices()"
   ]
  },
  {
   "cell_type": "code",
   "execution_count": 18,
   "metadata": {},
   "outputs": [
    {
     "name": "stdout",
     "output_type": "stream",
     "text": [
      "PV energy yield power 0.000 kW\n",
      "Consumption 0.192 kW\n",
      "Grid connection power 0.000 kW\n",
      "Battery charge/discharge power -0.192 kW\n",
      "Consumption today 0.00 kWh\n",
      "Export today 0.00 kWh\n",
      "Import today 0.00 kWh\n",
      "Output active power 0.192 kW\n",
      "Cumulative energy 16963.96 kWh\n",
      "Production 0.00 kWh\n",
      "Device feature code 3 15204544 \n",
      "Device feature code 2 4222993 \n",
      "Inverter rated power 8.000 kW\n",
      "PV1 input voltage 0.0 V\n",
      "PV1 input current 0.00 A\n",
      "PV2 input voltage 0.0 V\n",
      "PV2 input current 0.00 A\n",
      "PV3 input voltage 0.0 V\n",
      "PV3 input current 0.00 A\n",
      "PV4 input voltage 0.0 V\n",
      "PV4 input current 0.00 A\n",
      "PV5 input voltage 0.0 V\n",
      "PV5 input current 0.00 A\n",
      "PV6 input voltage 0.0 V\n",
      "PV6 input current 0.00 A\n",
      "PV7 input voltage 0.0 V\n",
      "PV7 input current 0.00 A\n",
      "PV8 input voltage 0.0 V\n",
      "PV8 input current 0.00 A\n",
      "PV9 input voltage 0.0 V\n",
      "PV9 input current 0.00 A\n",
      "PV10 input voltage 0.0 V\n",
      "PV10 input current 0.00 A\n",
      "PV11 input voltage 0.0 V\n",
      "PV11 input current 0.00 A\n",
      "PV12 input voltage 0.0 V\n",
      "PV12 input current 0.00 A\n",
      "PV13 input voltage 0.0 V\n",
      "PV13 input current 0.00 A\n",
      "PV14 input voltage 0.0 V\n",
      "PV14 input current 0.00 A\n",
      "PV15 Input Voltage 0.0 V\n",
      "PV15 Input Current 0.00 A\n",
      "PV16 Input Voltage 0.0 V\n",
      "PV16 Input Current 0.00 A\n",
      "PV17 Input Voltage 0.0 V\n",
      "PV17 Input Current 0.00 A\n",
      "PV18 Input Voltage 0.0 V\n",
      "PV18 Input Current 0.00 A\n",
      "PV19 Input Voltage 0.0 V\n",
      "PV19 Input Current 0.00 A\n",
      "PV20 Input Voltage 0.0 V\n",
      "PV20 Input Current 0.00 A\n",
      "PV21 Input Voltage 0.0 V\n",
      "PV21 Input Current 0.00 A\n",
      "PV22 Input Voltage 0.0 V\n",
      "PV22 Input Current 0.00 A\n",
      "PV23 Input Voltage 0.0 V\n",
      "PV23 Input Current 0.00 A\n",
      "PV24 Input Voltage 0.0 V\n",
      "PV24 Input Current 0.00 A\n",
      "Total input power 0.000 kW\n",
      "Grid voltage/Grid AB line voltage 412.3 V\n",
      "BC line voltage 410.8 V\n",
      "CA line voltage 411.4 V\n",
      "Grid phase A voltage 237.9 V\n",
      "Grid phase B voltage 237.9 V\n",
      "Grid phase C voltage 237.0 V\n",
      "Grid phase A current 0.350 A\n",
      "Grid phase B current 0.343 A\n",
      "Grid phase C current 0.349 A\n",
      "Active power 0.194 kW\n",
      "Output reactive power -0.002 kVar\n",
      "Power factor 1.000 \n",
      "Grid frequency 50.02 Hz\n",
      "Inverter efficiency 100.00 %\n",
      "Device internal temperature 40.1 ℃\n",
      "Inverter status Grid connected \n",
      "Inverter startup time 2022-08-26 07:25:51 \n",
      "Inverter shutdown time N/A \n",
      "Cumulative energy 16963.96 kWh\n",
      "Total DC input energy 18033.03 kWh\n",
      "Daily energy 0.57 kWh\n",
      "Monthly energy 1131.33 kWh\n",
      "Annual energy 8460.50 kWh\n",
      "MPPT 1 DC cumulative energy 9068.49 kWh\n",
      "MPPT 2 DC cumulative energy 8964.54 kWh\n",
      "MPPT 3 DC cumulative energy 0.00 kWh\n",
      "MPPT 4 DC cumulative energy 0.00 kWh\n",
      "MPPT 5 DC cumulative energy 0.00 kWh\n",
      "MPPT 6 DC cumulative energy 0.00 kWh\n",
      "MPPT 7 DC cumulative energy 0.00 kWh\n",
      "MPPT 8 DC cumulative energy 0.00 kWh\n",
      "MPPT 9 DC cumulative energy 0.00 kWh\n",
      "MPPT 10 DC cumulative energy 0.00 kWh\n",
      "Accumulated amount of absorbed electricity 83.98 kWh\n",
      "Status Normal \n",
      "Positive active energy 12686.46 kWh\n",
      "Negative active energy 1326.38 kWh\n",
      "Reactive power 291 Var\n",
      "Power factor 0.000 \n",
      "Grid frequency 50.00 Hz\n",
      "Phase A active power 5 W\n",
      "Phase B active power 45 W\n",
      "Phase C active power -50 W\n",
      "Voltage/Phase A voltage 238.3 V\n",
      "Phase B voltage 237.8 V\n",
      "Phase C voltage 237.5 V\n",
      "Current/Phase A current 0.46 A\n",
      "Phase B current 0.82 A\n",
      "Phase C current -0.59 A\n",
      "Active power 0 W\n",
      "Charge/Discharge mode Maximum self-consumption \n",
      "Rated capacity 10 kWh\n",
      "Battery SOC 60.0 %\n",
      "Battery SOH 0.0 %\n",
      "Battery operating status Operating \n",
      "Battery voltage 617.8 V\n",
      "Charge/Discharge power -0.190 kW\n",
      "Total charge 2341.96 kWh\n",
      "Total discharge 2182.24 kWh\n",
      "Charging 0.00 kWh\n",
      "Discharging 0.84 kWh\n",
      "Backup time N/A min\n",
      "Working status Discharging \n"
     ]
    }
   ],
   "source": [
    "units=set()\n",
    "values=[]\n",
    "for device in devices:\n",
    "    for metric in device.get_device_stats().values():\n",
    "        print(metric.name, metric.value, metric.unit)\n",
    "        units.add(metric.unit)\n",
    "        # values.append(metric.value)\n",
    "        # break\n",
    "    # print(device.name, device.type)\n",
    "    # print(json.dumps(device.get_device_stats(), indent=4))\n",
    "    # r= device.get_device_stats(return_resp=True)\n",
    "    # break\n",
    "# print(units)"
   ]
  },
  {
   "cell_type": "code",
   "execution_count": 16,
   "metadata": {},
   "outputs": [
    {
     "data": {
      "text/plain": [
       "['0.000', '8.000', 'Normal', 'Maximum self-consumption']"
      ]
     },
     "execution_count": 16,
     "metadata": {},
     "output_type": "execute_result"
    }
   ],
   "source": [
    "values"
   ]
  },
  {
   "cell_type": "code",
   "execution_count": null,
   "metadata": {},
   "outputs": [],
   "source": [
    "import time\n",
    "import datetime\n",
    "import pandas\n",
    "pandas.options.plotting.backend = \"plotly\"\n",
    "\n",
    "# d = datetime.datetime.now()\n",
    "# # d = datetime.datetime(2022,11,1)\n",
    "# dt = datetime.datetime(\n",
    "#     year=d.year,\n",
    "#     month=d.month,\n",
    "#     day=d.day,\n",
    "# )\n",
    "# query_time= int(dt.timestamp())*1000\n",
    "\n",
    "# plant_data=client.get_plant_stats(plant_ids[0], query_time=query_time)\n",
    "df=plants[0].get_plant_stats()\n",
    "\n",
    "\n",
    "df.plot()"
   ]
  },
  {
   "cell_type": "code",
   "execution_count": null,
   "metadata": {},
   "outputs": [],
   "source": [
    "df.iloc[-1].to_dict() #get latest entry"
   ]
  },
  {
   "cell_type": "code",
   "execution_count": null,
   "metadata": {},
   "outputs": [],
   "source": [
    "url=f'https://{client._huawei_subdomain}.fusionsolar.huawei.com/rest/neteco/web/config/device/v1/device-list'\n",
    "params={\n",
    "    # 'conditionParams.checkShareStationDn': client._parent_id, #\"NE=33559773\",\n",
    "    'conditionParams.parentDn':  'NE=33559773', #client._parent_id,# ,NE=34010450\n",
    "    # 'conditionParams.curPage': 1,\n",
    "    # 'conditionParams.recordperpage': 10,\n",
    "    'conditionParams.mocTypes': '20814,20815,20816,20819,20822,50017,60066,60014,60015,23037', # specifies the types of devices\n",
    "    # 'conditionParams.signals': \"10001\", #10046,10047,21001,21002,21003,50001,50002,50003,50004,50005,50006,50007,50008,50009,50010,50011,50012,50013,50014,50015,22049,21020,21009,50017,20004\",\n",
    "    '_': round(time.time() * 1000)\n",
    "}\n",
    "r = client._session.get(url=url, params=params)\n",
    "r.raise_for_status()\n",
    "r.json()\n",
    "\n",
    "device_key={}\n",
    "for device in r.json()['data']:\n",
    "    device_key[device['mocTypeName']]=device['dn']\n",
    "# self._device_key=device_key\n",
    "device_key"
   ]
  },
  {
   "cell_type": "code",
   "execution_count": null,
   "metadata": {},
   "outputs": [],
   "source": [
    "login_data = client._send_request(\n",
    "            url=f\"https://{client._huawei_subdomain}.fusionsolar.huawei.com/unisess/v1/auth/session\")\n",
    "client._session.headers[\"roarand\"]=login_data['csrfToken']\n",
    "\n",
    "\n",
    "url = \"https://region04eu5.fusionsolar.huawei.com/rest/pvms/web/device/v1/deviceExt/set-config-signals\"\n",
    "\n",
    "\n",
    "data = {\"dn\": client._device_key['Dongle'], \"changeValues\": '[{\"id\":\"230190032\",\"value\":\"0\"}]'} \n",
    "# 230190032 stands for \"Active Power Control\"\n",
    "#these are the options for value:\n",
    "# {0: \"No limit\",\n",
    "# 5: \"Zero Export Limitation\",\n",
    "# 6: \"Limited Power Grid (kW)\",\n",
    "# 7: \"Limited Power Grid (%)\"}\n",
    "\n",
    "r = client._session.post(url, data=data)\n",
    "\n",
    "print(r.status_code)\n",
    "print(r.json())"
   ]
  }
 ],
 "metadata": {
  "kernelspec": {
   "display_name": "Python 3.10.4 ('huis')",
   "language": "python",
   "name": "python3"
  },
  "language_info": {
   "codemirror_mode": {
    "name": "ipython",
    "version": 3
   },
   "file_extension": ".py",
   "mimetype": "text/x-python",
   "name": "python",
   "nbconvert_exporter": "python",
   "pygments_lexer": "ipython3",
   "version": "3.10.4"
  },
  "orig_nbformat": 4,
  "vscode": {
   "interpreter": {
    "hash": "1d0b768e2b76c2537c749061f5993f0ad055a5baf8d4865276f027f00fed732e"
   }
  }
 },
 "nbformat": 4,
 "nbformat_minor": 2
}
