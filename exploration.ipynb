{
 "cells": [
  {
   "cell_type": "code",
   "execution_count": null,
   "metadata": {},
   "outputs": [],
   "source": [
    "from src.fusion_solar_py.client import FusionSolarClient"
   ]
  },
  {
   "cell_type": "code",
   "execution_count": null,
   "metadata": {},
   "outputs": [],
   "source": [
    "# log into the API - with proper credentials...\n",
    "# Read YAML file\n",
    "ROOT_DIR=\".\"\n",
    "\n",
    "import json\n",
    "with open(f\"{ROOT_DIR}/tests/credentials.json\", 'r') as stream:\n",
    "    cred = json.load(stream)\n",
    "\n",
    "client = FusionSolarClient(cred['username'], cred['password'], huawei_subdomain='region04eu5')\n"
   ]
  },
  {
   "cell_type": "code",
   "execution_count": null,
   "metadata": {},
   "outputs": [],
   "source": [
    "client._login()"
   ]
  },
  {
   "cell_type": "code",
   "execution_count": null,
   "metadata": {},
   "outputs": [],
   "source": [
    "plants = client.get_plants()"
   ]
  },
  {
   "cell_type": "code",
   "execution_count": 9,
   "metadata": {},
   "outputs": [
    {
     "name": "stdout",
     "output_type": "stream",
     "text": [
      "steenhof huawei\n"
     ]
    }
   ],
   "source": [
    "for plant in plants:\n",
    "    print(plant.name)\n",
    "    # r= plant.get_plant_stats(return_resp=True)"
   ]
  },
  {
   "cell_type": "code",
   "execution_count": null,
   "metadata": {},
   "outputs": [],
   "source": [
    "devices = client.get_devices()"
   ]
  },
  {
   "cell_type": "code",
   "execution_count": null,
   "metadata": {},
   "outputs": [],
   "source": [
    "import json\n",
    "\n",
    "for device in devices:\n",
    "    print(device.name, device.type)\n",
    "    print(json.dumps(device.get_device_stats(), indent=4))\n",
    "    # r= device.get_device_stats(return_resp=True)\n",
    "    # break\n"
   ]
  },
  {
   "cell_type": "code",
   "execution_count": null,
   "metadata": {},
   "outputs": [],
   "source": [
    "import time\n",
    "import datetime\n",
    "import pandas\n",
    "pandas.options.plotting.backend = \"plotly\"\n",
    "\n",
    "# d = datetime.datetime.now()\n",
    "# # d = datetime.datetime(2022,11,1)\n",
    "# dt = datetime.datetime(\n",
    "#     year=d.year,\n",
    "#     month=d.month,\n",
    "#     day=d.day,\n",
    "# )\n",
    "# query_time= int(dt.timestamp())*1000\n",
    "\n",
    "# plant_data=client.get_plant_stats(plant_ids[0], query_time=query_time)\n",
    "df=plants[0].get_plant_stats()\n",
    "\n",
    "\n",
    "df.plot()"
   ]
  },
  {
   "cell_type": "code",
   "execution_count": null,
   "metadata": {},
   "outputs": [],
   "source": [
    "df.iloc[-1].to_dict() #get latest entry"
   ]
  },
  {
   "cell_type": "code",
   "execution_count": null,
   "metadata": {},
   "outputs": [],
   "source": [
    "url=f'https://{client._huawei_subdomain}.fusionsolar.huawei.com/rest/neteco/web/config/device/v1/device-list'\n",
    "params={\n",
    "    # 'conditionParams.checkShareStationDn': client._parent_id, #\"NE=33559773\",\n",
    "    'conditionParams.parentDn':  'NE=33559773', #client._parent_id,# ,NE=34010450\n",
    "    # 'conditionParams.curPage': 1,\n",
    "    # 'conditionParams.recordperpage': 10,\n",
    "    'conditionParams.mocTypes': '20814,20815,20816,20819,20822,50017,60066,60014,60015,23037', # specifies the types of devices\n",
    "    # 'conditionParams.signals': \"10001\", #10046,10047,21001,21002,21003,50001,50002,50003,50004,50005,50006,50007,50008,50009,50010,50011,50012,50013,50014,50015,22049,21020,21009,50017,20004\",\n",
    "    '_': round(time.time() * 1000)\n",
    "}\n",
    "r = client._session.get(url=url, params=params)\n",
    "r.raise_for_status()\n",
    "r.json()\n",
    "\n",
    "device_key={}\n",
    "for device in r.json()['data']:\n",
    "    device_key[device['mocTypeName']]=device['dn']\n",
    "# self._device_key=device_key\n",
    "device_key"
   ]
  },
  {
   "cell_type": "code",
   "execution_count": null,
   "metadata": {},
   "outputs": [],
   "source": [
    "login_data = client._send_request(\n",
    "            url=f\"https://{client._huawei_subdomain}.fusionsolar.huawei.com/unisess/v1/auth/session\")\n",
    "client._session.headers[\"roarand\"]=login_data['csrfToken']\n",
    "\n",
    "\n",
    "url = \"https://region04eu5.fusionsolar.huawei.com/rest/pvms/web/device/v1/deviceExt/set-config-signals\"\n",
    "\n",
    "\n",
    "data = {\"dn\": client._device_key['Dongle'], \"changeValues\": '[{\"id\":\"230190032\",\"value\":\"0\"}]'} \n",
    "# 230190032 stands for \"Active Power Control\"\n",
    "#these are the options for value:\n",
    "# {0: \"No limit\",\n",
    "# 5: \"Zero Export Limitation\",\n",
    "# 6: \"Limited Power Grid (kW)\",\n",
    "# 7: \"Limited Power Grid (%)\"}\n",
    "\n",
    "r = client._session.post(url, data=data)\n",
    "\n",
    "print(r.status_code)\n",
    "print(r.json())"
   ]
  }
 ],
 "metadata": {
  "kernelspec": {
   "display_name": "Python 3.10.4 ('huis')",
   "language": "python",
   "name": "python3"
  },
  "language_info": {
   "codemirror_mode": {
    "name": "ipython",
    "version": 3
   },
   "file_extension": ".py",
   "mimetype": "text/x-python",
   "name": "python",
   "nbconvert_exporter": "python",
   "pygments_lexer": "ipython3",
   "version": "3.10.4"
  },
  "orig_nbformat": 4,
  "vscode": {
   "interpreter": {
    "hash": "1d0b768e2b76c2537c749061f5993f0ad055a5baf8d4865276f027f00fed732e"
   }
  }
 },
 "nbformat": 4,
 "nbformat_minor": 2
}
