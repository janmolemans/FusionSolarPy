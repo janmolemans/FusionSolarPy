{
 "cells": [
  {
   "cell_type": "code",
   "execution_count": 1,
   "metadata": {},
   "outputs": [],
   "source": [
    "from src.fusion_solar_py.client import FusionSolarClient"
   ]
  },
  {
   "cell_type": "code",
   "execution_count": 2,
   "metadata": {},
   "outputs": [],
   "source": [
    "# log into the API - with proper credentials...\n",
    "# Read YAML file\n",
    "ROOT_DIR=\".\"\n",
    "\n",
    "import json\n",
    "with open(f\"{ROOT_DIR}/tests/credentials.json\", 'r') as stream:\n",
    "    cred = json.load(stream)\n",
    "\n",
    "client = FusionSolarClient(cred['username'], cred['password'], huawei_subdomain='region04eu5')\n"
   ]
  },
  {
   "cell_type": "code",
   "execution_count": 9,
   "metadata": {},
   "outputs": [],
   "source": [
    "client._login()"
   ]
  },
  {
   "cell_type": "code",
   "execution_count": 4,
   "metadata": {},
   "outputs": [
    {
     "data": {
      "text/plain": [
       "['NE=33610488']"
      ]
     },
     "execution_count": 4,
     "metadata": {},
     "output_type": "execute_result"
    }
   ],
   "source": [
    "plant_ids=client.get_plant_ids()\n",
    "plant_ids"
   ]
  },
  {
   "cell_type": "code",
   "execution_count": 31,
   "metadata": {},
   "outputs": [
    {
     "data": {
      "application/vnd.plotly.v1+json": {
       "config": {
        "plotlyServerURL": "https://plot.ly"
       },
       "data": [
        {
         "hovertemplate": "variable=selfUsePower<br>xAxis=%{x}<br>value=%{y}<extra></extra>",
         "legendgroup": "selfUsePower",
         "line": {
          "color": "#636efa",
          "dash": "solid"
         },
         "marker": {
          "symbol": "circle"
         },
         "mode": "lines",
         "name": "selfUsePower",
         "orientation": "v",
         "showlegend": true,
         "type": "scatter",
         "x": [
          "2022-08-13 00:00",
          "2022-08-13 00:05",
          "2022-08-13 00:10",
          "2022-08-13 00:15",
          "2022-08-13 00:20",
          "2022-08-13 00:25",
          "2022-08-13 00:30",
          "2022-08-13 00:35",
          "2022-08-13 00:40",
          "2022-08-13 00:45",
          "2022-08-13 00:50",
          "2022-08-13 00:55",
          "2022-08-13 01:00",
          "2022-08-13 01:05",
          "2022-08-13 01:10",
          "2022-08-13 01:15"
         ],
         "xaxis": "x",
         "y": [
          0,
          0,
          0,
          0,
          0,
          0,
          0,
          0,
          0,
          0,
          0,
          0,
          0,
          0,
          0,
          0
         ],
         "yaxis": "y"
        },
        {
         "hovertemplate": "variable=dischargePower<br>xAxis=%{x}<br>value=%{y}<extra></extra>",
         "legendgroup": "dischargePower",
         "line": {
          "color": "#EF553B",
          "dash": "solid"
         },
         "marker": {
          "symbol": "circle"
         },
         "mode": "lines",
         "name": "dischargePower",
         "orientation": "v",
         "showlegend": true,
         "type": "scatter",
         "x": [
          "2022-08-13 00:00",
          "2022-08-13 00:05",
          "2022-08-13 00:10",
          "2022-08-13 00:15",
          "2022-08-13 00:20",
          "2022-08-13 00:25",
          "2022-08-13 00:30",
          "2022-08-13 00:35",
          "2022-08-13 00:40",
          "2022-08-13 00:45",
          "2022-08-13 00:50",
          "2022-08-13 00:55",
          "2022-08-13 01:00",
          "2022-08-13 01:05",
          "2022-08-13 01:10",
          "2022-08-13 01:15"
         ],
         "xaxis": "x",
         "y": [
          0.305,
          0.305,
          0.306,
          0.305,
          0.294,
          0.299,
          0.281,
          0.276,
          0.339,
          0.318,
          0.327,
          0.308,
          0.305,
          0.304,
          0.283,
          0.241
         ],
         "yaxis": "y"
        },
        {
         "hovertemplate": "variable=radiationDosePower<br>xAxis=%{x}<br>value=%{y}<extra></extra>",
         "legendgroup": "radiationDosePower",
         "line": {
          "color": "#00cc96",
          "dash": "solid"
         },
         "marker": {
          "symbol": "circle"
         },
         "mode": "lines",
         "name": "radiationDosePower",
         "orientation": "v",
         "showlegend": true,
         "type": "scatter",
         "x": [
          "2022-08-13 00:00",
          "2022-08-13 00:05",
          "2022-08-13 00:10",
          "2022-08-13 00:15",
          "2022-08-13 00:20",
          "2022-08-13 00:25",
          "2022-08-13 00:30",
          "2022-08-13 00:35",
          "2022-08-13 00:40",
          "2022-08-13 00:45",
          "2022-08-13 00:50",
          "2022-08-13 00:55",
          "2022-08-13 01:00",
          "2022-08-13 01:05",
          "2022-08-13 01:10",
          "2022-08-13 01:15"
         ],
         "xaxis": "x",
         "y": [
          0,
          0,
          0,
          0,
          0,
          0,
          0,
          0,
          0,
          0,
          0,
          0,
          0,
          0,
          0,
          0
         ],
         "yaxis": "y"
        },
        {
         "hovertemplate": "variable=chargePower<br>xAxis=%{x}<br>value=%{y}<extra></extra>",
         "legendgroup": "chargePower",
         "line": {
          "color": "#ab63fa",
          "dash": "solid"
         },
         "marker": {
          "symbol": "circle"
         },
         "mode": "lines",
         "name": "chargePower",
         "orientation": "v",
         "showlegend": true,
         "type": "scatter",
         "x": [
          "2022-08-13 00:00",
          "2022-08-13 00:05",
          "2022-08-13 00:10",
          "2022-08-13 00:15",
          "2022-08-13 00:20",
          "2022-08-13 00:25",
          "2022-08-13 00:30",
          "2022-08-13 00:35",
          "2022-08-13 00:40",
          "2022-08-13 00:45",
          "2022-08-13 00:50",
          "2022-08-13 00:55",
          "2022-08-13 01:00",
          "2022-08-13 01:05",
          "2022-08-13 01:10",
          "2022-08-13 01:15"
         ],
         "xaxis": "x",
         "y": [
          0,
          0,
          0,
          0,
          0,
          0,
          0,
          0,
          0,
          0,
          0,
          0,
          0,
          0,
          0,
          0
         ],
         "yaxis": "y"
        },
        {
         "hovertemplate": "variable=onGridPower<br>xAxis=%{x}<br>value=%{y}<extra></extra>",
         "legendgroup": "onGridPower",
         "line": {
          "color": "#FFA15A",
          "dash": "solid"
         },
         "marker": {
          "symbol": "circle"
         },
         "mode": "lines",
         "name": "onGridPower",
         "orientation": "v",
         "showlegend": true,
         "type": "scatter",
         "x": [
          "2022-08-13 00:00",
          "2022-08-13 00:05",
          "2022-08-13 00:10",
          "2022-08-13 00:15",
          "2022-08-13 00:20",
          "2022-08-13 00:25",
          "2022-08-13 00:30",
          "2022-08-13 00:35",
          "2022-08-13 00:40",
          "2022-08-13 00:45",
          "2022-08-13 00:50",
          "2022-08-13 00:55",
          "2022-08-13 01:00",
          "2022-08-13 01:05",
          "2022-08-13 01:10",
          "2022-08-13 01:15"
         ],
         "xaxis": "x",
         "y": [
          0,
          0,
          0,
          0,
          0,
          0.009,
          0,
          0,
          0,
          0,
          0,
          0.018,
          0.007,
          0,
          0.003,
          0
         ],
         "yaxis": "y"
        },
        {
         "hovertemplate": "variable=disGridPower<br>xAxis=%{x}<br>value=%{y}<extra></extra>",
         "legendgroup": "disGridPower",
         "line": {
          "color": "#19d3f3",
          "dash": "solid"
         },
         "marker": {
          "symbol": "circle"
         },
         "mode": "lines",
         "name": "disGridPower",
         "orientation": "v",
         "showlegend": true,
         "type": "scatter",
         "x": [
          "2022-08-13 00:00",
          "2022-08-13 00:05",
          "2022-08-13 00:10",
          "2022-08-13 00:15",
          "2022-08-13 00:20",
          "2022-08-13 00:25",
          "2022-08-13 00:30",
          "2022-08-13 00:35",
          "2022-08-13 00:40",
          "2022-08-13 00:45",
          "2022-08-13 00:50",
          "2022-08-13 00:55",
          "2022-08-13 01:00",
          "2022-08-13 01:05",
          "2022-08-13 01:10",
          "2022-08-13 01:15"
         ],
         "xaxis": "x",
         "y": [
          0.006,
          0.01,
          0.003,
          0,
          0.003,
          0,
          0,
          0,
          0.005,
          0,
          0.01,
          0,
          0,
          0.007,
          0,
          0.006
         ],
         "yaxis": "y"
        },
        {
         "hovertemplate": "variable=productPower<br>xAxis=%{x}<br>value=%{y}<extra></extra>",
         "legendgroup": "productPower",
         "line": {
          "color": "#FF6692",
          "dash": "solid"
         },
         "marker": {
          "symbol": "circle"
         },
         "mode": "lines",
         "name": "productPower",
         "orientation": "v",
         "showlegend": true,
         "type": "scatter",
         "x": [
          "2022-08-13 00:00",
          "2022-08-13 00:05",
          "2022-08-13 00:10",
          "2022-08-13 00:15",
          "2022-08-13 00:20",
          "2022-08-13 00:25",
          "2022-08-13 00:30",
          "2022-08-13 00:35",
          "2022-08-13 00:40",
          "2022-08-13 00:45",
          "2022-08-13 00:50",
          "2022-08-13 00:55",
          "2022-08-13 01:00",
          "2022-08-13 01:05",
          "2022-08-13 01:10",
          "2022-08-13 01:15"
         ],
         "xaxis": "x",
         "y": [
          0,
          0,
          0,
          0,
          0,
          0,
          0,
          0,
          0,
          0,
          0,
          0,
          0,
          0,
          0,
          0
         ],
         "yaxis": "y"
        },
        {
         "hovertemplate": "variable=usePower<br>xAxis=%{x}<br>value=%{y}<extra></extra>",
         "legendgroup": "usePower",
         "line": {
          "color": "#B6E880",
          "dash": "solid"
         },
         "marker": {
          "symbol": "circle"
         },
         "mode": "lines",
         "name": "usePower",
         "orientation": "v",
         "showlegend": true,
         "type": "scatter",
         "x": [
          "2022-08-13 00:00",
          "2022-08-13 00:05",
          "2022-08-13 00:10",
          "2022-08-13 00:15",
          "2022-08-13 00:20",
          "2022-08-13 00:25",
          "2022-08-13 00:30",
          "2022-08-13 00:35",
          "2022-08-13 00:40",
          "2022-08-13 00:45",
          "2022-08-13 00:50",
          "2022-08-13 00:55",
          "2022-08-13 01:00",
          "2022-08-13 01:05",
          "2022-08-13 01:10",
          "2022-08-13 01:15"
         ],
         "xaxis": "x",
         "y": [
          0.303,
          0.288,
          0.309,
          0.298,
          0.295,
          0.294,
          0.294,
          0.274,
          0.343,
          0.316,
          0.313,
          0.308,
          0.3,
          0.328,
          0.321,
          0.251
         ],
         "yaxis": "y"
        }
       ],
       "layout": {
        "legend": {
         "title": {
          "text": "variable"
         },
         "tracegroupgap": 0
        },
        "margin": {
         "t": 60
        },
        "template": {
         "data": {
          "bar": [
           {
            "error_x": {
             "color": "#2a3f5f"
            },
            "error_y": {
             "color": "#2a3f5f"
            },
            "marker": {
             "line": {
              "color": "#E5ECF6",
              "width": 0.5
             },
             "pattern": {
              "fillmode": "overlay",
              "size": 10,
              "solidity": 0.2
             }
            },
            "type": "bar"
           }
          ],
          "barpolar": [
           {
            "marker": {
             "line": {
              "color": "#E5ECF6",
              "width": 0.5
             },
             "pattern": {
              "fillmode": "overlay",
              "size": 10,
              "solidity": 0.2
             }
            },
            "type": "barpolar"
           }
          ],
          "carpet": [
           {
            "aaxis": {
             "endlinecolor": "#2a3f5f",
             "gridcolor": "white",
             "linecolor": "white",
             "minorgridcolor": "white",
             "startlinecolor": "#2a3f5f"
            },
            "baxis": {
             "endlinecolor": "#2a3f5f",
             "gridcolor": "white",
             "linecolor": "white",
             "minorgridcolor": "white",
             "startlinecolor": "#2a3f5f"
            },
            "type": "carpet"
           }
          ],
          "choropleth": [
           {
            "colorbar": {
             "outlinewidth": 0,
             "ticks": ""
            },
            "type": "choropleth"
           }
          ],
          "contour": [
           {
            "colorbar": {
             "outlinewidth": 0,
             "ticks": ""
            },
            "colorscale": [
             [
              0,
              "#0d0887"
             ],
             [
              0.1111111111111111,
              "#46039f"
             ],
             [
              0.2222222222222222,
              "#7201a8"
             ],
             [
              0.3333333333333333,
              "#9c179e"
             ],
             [
              0.4444444444444444,
              "#bd3786"
             ],
             [
              0.5555555555555556,
              "#d8576b"
             ],
             [
              0.6666666666666666,
              "#ed7953"
             ],
             [
              0.7777777777777778,
              "#fb9f3a"
             ],
             [
              0.8888888888888888,
              "#fdca26"
             ],
             [
              1,
              "#f0f921"
             ]
            ],
            "type": "contour"
           }
          ],
          "contourcarpet": [
           {
            "colorbar": {
             "outlinewidth": 0,
             "ticks": ""
            },
            "type": "contourcarpet"
           }
          ],
          "heatmap": [
           {
            "colorbar": {
             "outlinewidth": 0,
             "ticks": ""
            },
            "colorscale": [
             [
              0,
              "#0d0887"
             ],
             [
              0.1111111111111111,
              "#46039f"
             ],
             [
              0.2222222222222222,
              "#7201a8"
             ],
             [
              0.3333333333333333,
              "#9c179e"
             ],
             [
              0.4444444444444444,
              "#bd3786"
             ],
             [
              0.5555555555555556,
              "#d8576b"
             ],
             [
              0.6666666666666666,
              "#ed7953"
             ],
             [
              0.7777777777777778,
              "#fb9f3a"
             ],
             [
              0.8888888888888888,
              "#fdca26"
             ],
             [
              1,
              "#f0f921"
             ]
            ],
            "type": "heatmap"
           }
          ],
          "heatmapgl": [
           {
            "colorbar": {
             "outlinewidth": 0,
             "ticks": ""
            },
            "colorscale": [
             [
              0,
              "#0d0887"
             ],
             [
              0.1111111111111111,
              "#46039f"
             ],
             [
              0.2222222222222222,
              "#7201a8"
             ],
             [
              0.3333333333333333,
              "#9c179e"
             ],
             [
              0.4444444444444444,
              "#bd3786"
             ],
             [
              0.5555555555555556,
              "#d8576b"
             ],
             [
              0.6666666666666666,
              "#ed7953"
             ],
             [
              0.7777777777777778,
              "#fb9f3a"
             ],
             [
              0.8888888888888888,
              "#fdca26"
             ],
             [
              1,
              "#f0f921"
             ]
            ],
            "type": "heatmapgl"
           }
          ],
          "histogram": [
           {
            "marker": {
             "pattern": {
              "fillmode": "overlay",
              "size": 10,
              "solidity": 0.2
             }
            },
            "type": "histogram"
           }
          ],
          "histogram2d": [
           {
            "colorbar": {
             "outlinewidth": 0,
             "ticks": ""
            },
            "colorscale": [
             [
              0,
              "#0d0887"
             ],
             [
              0.1111111111111111,
              "#46039f"
             ],
             [
              0.2222222222222222,
              "#7201a8"
             ],
             [
              0.3333333333333333,
              "#9c179e"
             ],
             [
              0.4444444444444444,
              "#bd3786"
             ],
             [
              0.5555555555555556,
              "#d8576b"
             ],
             [
              0.6666666666666666,
              "#ed7953"
             ],
             [
              0.7777777777777778,
              "#fb9f3a"
             ],
             [
              0.8888888888888888,
              "#fdca26"
             ],
             [
              1,
              "#f0f921"
             ]
            ],
            "type": "histogram2d"
           }
          ],
          "histogram2dcontour": [
           {
            "colorbar": {
             "outlinewidth": 0,
             "ticks": ""
            },
            "colorscale": [
             [
              0,
              "#0d0887"
             ],
             [
              0.1111111111111111,
              "#46039f"
             ],
             [
              0.2222222222222222,
              "#7201a8"
             ],
             [
              0.3333333333333333,
              "#9c179e"
             ],
             [
              0.4444444444444444,
              "#bd3786"
             ],
             [
              0.5555555555555556,
              "#d8576b"
             ],
             [
              0.6666666666666666,
              "#ed7953"
             ],
             [
              0.7777777777777778,
              "#fb9f3a"
             ],
             [
              0.8888888888888888,
              "#fdca26"
             ],
             [
              1,
              "#f0f921"
             ]
            ],
            "type": "histogram2dcontour"
           }
          ],
          "mesh3d": [
           {
            "colorbar": {
             "outlinewidth": 0,
             "ticks": ""
            },
            "type": "mesh3d"
           }
          ],
          "parcoords": [
           {
            "line": {
             "colorbar": {
              "outlinewidth": 0,
              "ticks": ""
             }
            },
            "type": "parcoords"
           }
          ],
          "pie": [
           {
            "automargin": true,
            "type": "pie"
           }
          ],
          "scatter": [
           {
            "marker": {
             "colorbar": {
              "outlinewidth": 0,
              "ticks": ""
             }
            },
            "type": "scatter"
           }
          ],
          "scatter3d": [
           {
            "line": {
             "colorbar": {
              "outlinewidth": 0,
              "ticks": ""
             }
            },
            "marker": {
             "colorbar": {
              "outlinewidth": 0,
              "ticks": ""
             }
            },
            "type": "scatter3d"
           }
          ],
          "scattercarpet": [
           {
            "marker": {
             "colorbar": {
              "outlinewidth": 0,
              "ticks": ""
             }
            },
            "type": "scattercarpet"
           }
          ],
          "scattergeo": [
           {
            "marker": {
             "colorbar": {
              "outlinewidth": 0,
              "ticks": ""
             }
            },
            "type": "scattergeo"
           }
          ],
          "scattergl": [
           {
            "marker": {
             "colorbar": {
              "outlinewidth": 0,
              "ticks": ""
             }
            },
            "type": "scattergl"
           }
          ],
          "scattermapbox": [
           {
            "marker": {
             "colorbar": {
              "outlinewidth": 0,
              "ticks": ""
             }
            },
            "type": "scattermapbox"
           }
          ],
          "scatterpolar": [
           {
            "marker": {
             "colorbar": {
              "outlinewidth": 0,
              "ticks": ""
             }
            },
            "type": "scatterpolar"
           }
          ],
          "scatterpolargl": [
           {
            "marker": {
             "colorbar": {
              "outlinewidth": 0,
              "ticks": ""
             }
            },
            "type": "scatterpolargl"
           }
          ],
          "scatterternary": [
           {
            "marker": {
             "colorbar": {
              "outlinewidth": 0,
              "ticks": ""
             }
            },
            "type": "scatterternary"
           }
          ],
          "surface": [
           {
            "colorbar": {
             "outlinewidth": 0,
             "ticks": ""
            },
            "colorscale": [
             [
              0,
              "#0d0887"
             ],
             [
              0.1111111111111111,
              "#46039f"
             ],
             [
              0.2222222222222222,
              "#7201a8"
             ],
             [
              0.3333333333333333,
              "#9c179e"
             ],
             [
              0.4444444444444444,
              "#bd3786"
             ],
             [
              0.5555555555555556,
              "#d8576b"
             ],
             [
              0.6666666666666666,
              "#ed7953"
             ],
             [
              0.7777777777777778,
              "#fb9f3a"
             ],
             [
              0.8888888888888888,
              "#fdca26"
             ],
             [
              1,
              "#f0f921"
             ]
            ],
            "type": "surface"
           }
          ],
          "table": [
           {
            "cells": {
             "fill": {
              "color": "#EBF0F8"
             },
             "line": {
              "color": "white"
             }
            },
            "header": {
             "fill": {
              "color": "#C8D4E3"
             },
             "line": {
              "color": "white"
             }
            },
            "type": "table"
           }
          ]
         },
         "layout": {
          "annotationdefaults": {
           "arrowcolor": "#2a3f5f",
           "arrowhead": 0,
           "arrowwidth": 1
          },
          "autotypenumbers": "strict",
          "coloraxis": {
           "colorbar": {
            "outlinewidth": 0,
            "ticks": ""
           }
          },
          "colorscale": {
           "diverging": [
            [
             0,
             "#8e0152"
            ],
            [
             0.1,
             "#c51b7d"
            ],
            [
             0.2,
             "#de77ae"
            ],
            [
             0.3,
             "#f1b6da"
            ],
            [
             0.4,
             "#fde0ef"
            ],
            [
             0.5,
             "#f7f7f7"
            ],
            [
             0.6,
             "#e6f5d0"
            ],
            [
             0.7,
             "#b8e186"
            ],
            [
             0.8,
             "#7fbc41"
            ],
            [
             0.9,
             "#4d9221"
            ],
            [
             1,
             "#276419"
            ]
           ],
           "sequential": [
            [
             0,
             "#0d0887"
            ],
            [
             0.1111111111111111,
             "#46039f"
            ],
            [
             0.2222222222222222,
             "#7201a8"
            ],
            [
             0.3333333333333333,
             "#9c179e"
            ],
            [
             0.4444444444444444,
             "#bd3786"
            ],
            [
             0.5555555555555556,
             "#d8576b"
            ],
            [
             0.6666666666666666,
             "#ed7953"
            ],
            [
             0.7777777777777778,
             "#fb9f3a"
            ],
            [
             0.8888888888888888,
             "#fdca26"
            ],
            [
             1,
             "#f0f921"
            ]
           ],
           "sequentialminus": [
            [
             0,
             "#0d0887"
            ],
            [
             0.1111111111111111,
             "#46039f"
            ],
            [
             0.2222222222222222,
             "#7201a8"
            ],
            [
             0.3333333333333333,
             "#9c179e"
            ],
            [
             0.4444444444444444,
             "#bd3786"
            ],
            [
             0.5555555555555556,
             "#d8576b"
            ],
            [
             0.6666666666666666,
             "#ed7953"
            ],
            [
             0.7777777777777778,
             "#fb9f3a"
            ],
            [
             0.8888888888888888,
             "#fdca26"
            ],
            [
             1,
             "#f0f921"
            ]
           ]
          },
          "colorway": [
           "#636efa",
           "#EF553B",
           "#00cc96",
           "#ab63fa",
           "#FFA15A",
           "#19d3f3",
           "#FF6692",
           "#B6E880",
           "#FF97FF",
           "#FECB52"
          ],
          "font": {
           "color": "#2a3f5f"
          },
          "geo": {
           "bgcolor": "white",
           "lakecolor": "white",
           "landcolor": "#E5ECF6",
           "showlakes": true,
           "showland": true,
           "subunitcolor": "white"
          },
          "hoverlabel": {
           "align": "left"
          },
          "hovermode": "closest",
          "mapbox": {
           "style": "light"
          },
          "paper_bgcolor": "white",
          "plot_bgcolor": "#E5ECF6",
          "polar": {
           "angularaxis": {
            "gridcolor": "white",
            "linecolor": "white",
            "ticks": ""
           },
           "bgcolor": "#E5ECF6",
           "radialaxis": {
            "gridcolor": "white",
            "linecolor": "white",
            "ticks": ""
           }
          },
          "scene": {
           "xaxis": {
            "backgroundcolor": "#E5ECF6",
            "gridcolor": "white",
            "gridwidth": 2,
            "linecolor": "white",
            "showbackground": true,
            "ticks": "",
            "zerolinecolor": "white"
           },
           "yaxis": {
            "backgroundcolor": "#E5ECF6",
            "gridcolor": "white",
            "gridwidth": 2,
            "linecolor": "white",
            "showbackground": true,
            "ticks": "",
            "zerolinecolor": "white"
           },
           "zaxis": {
            "backgroundcolor": "#E5ECF6",
            "gridcolor": "white",
            "gridwidth": 2,
            "linecolor": "white",
            "showbackground": true,
            "ticks": "",
            "zerolinecolor": "white"
           }
          },
          "shapedefaults": {
           "line": {
            "color": "#2a3f5f"
           }
          },
          "ternary": {
           "aaxis": {
            "gridcolor": "white",
            "linecolor": "white",
            "ticks": ""
           },
           "baxis": {
            "gridcolor": "white",
            "linecolor": "white",
            "ticks": ""
           },
           "bgcolor": "#E5ECF6",
           "caxis": {
            "gridcolor": "white",
            "linecolor": "white",
            "ticks": ""
           }
          },
          "title": {
           "x": 0.05
          },
          "xaxis": {
           "automargin": true,
           "gridcolor": "white",
           "linecolor": "white",
           "ticks": "",
           "title": {
            "standoff": 15
           },
           "zerolinecolor": "white",
           "zerolinewidth": 2
          },
          "yaxis": {
           "automargin": true,
           "gridcolor": "white",
           "linecolor": "white",
           "ticks": "",
           "title": {
            "standoff": 15
           },
           "zerolinecolor": "white",
           "zerolinewidth": 2
          }
         }
        },
        "xaxis": {
         "anchor": "y",
         "domain": [
          0,
          1
         ],
         "title": {
          "text": "xAxis"
         }
        },
        "yaxis": {
         "anchor": "x",
         "domain": [
          0,
          1
         ],
         "title": {
          "text": "value"
         }
        }
       }
      },
      "text/html": [
       "<div>                            <div id=\"678bb011-017a-49dc-8d18-62b17788bfd7\" class=\"plotly-graph-div\" style=\"height:525px; width:100%;\"></div>            <script type=\"text/javascript\">                require([\"plotly\"], function(Plotly) {                    window.PLOTLYENV=window.PLOTLYENV || {};                                    if (document.getElementById(\"678bb011-017a-49dc-8d18-62b17788bfd7\")) {                    Plotly.newPlot(                        \"678bb011-017a-49dc-8d18-62b17788bfd7\",                        [{\"hovertemplate\":\"variable=selfUsePower<br>xAxis=%{x}<br>value=%{y}<extra></extra>\",\"legendgroup\":\"selfUsePower\",\"line\":{\"color\":\"#636efa\",\"dash\":\"solid\"},\"marker\":{\"symbol\":\"circle\"},\"mode\":\"lines\",\"name\":\"selfUsePower\",\"orientation\":\"v\",\"showlegend\":true,\"x\":[\"2022-08-13 00:00\",\"2022-08-13 00:05\",\"2022-08-13 00:10\",\"2022-08-13 00:15\",\"2022-08-13 00:20\",\"2022-08-13 00:25\",\"2022-08-13 00:30\",\"2022-08-13 00:35\",\"2022-08-13 00:40\",\"2022-08-13 00:45\",\"2022-08-13 00:50\",\"2022-08-13 00:55\",\"2022-08-13 01:00\",\"2022-08-13 01:05\",\"2022-08-13 01:10\",\"2022-08-13 01:15\"],\"xaxis\":\"x\",\"y\":[0.0,0.0,0.0,0.0,0.0,0.0,0.0,0.0,0.0,0.0,0.0,0.0,0.0,0.0,0.0,0.0],\"yaxis\":\"y\",\"type\":\"scatter\"},{\"hovertemplate\":\"variable=dischargePower<br>xAxis=%{x}<br>value=%{y}<extra></extra>\",\"legendgroup\":\"dischargePower\",\"line\":{\"color\":\"#EF553B\",\"dash\":\"solid\"},\"marker\":{\"symbol\":\"circle\"},\"mode\":\"lines\",\"name\":\"dischargePower\",\"orientation\":\"v\",\"showlegend\":true,\"x\":[\"2022-08-13 00:00\",\"2022-08-13 00:05\",\"2022-08-13 00:10\",\"2022-08-13 00:15\",\"2022-08-13 00:20\",\"2022-08-13 00:25\",\"2022-08-13 00:30\",\"2022-08-13 00:35\",\"2022-08-13 00:40\",\"2022-08-13 00:45\",\"2022-08-13 00:50\",\"2022-08-13 00:55\",\"2022-08-13 01:00\",\"2022-08-13 01:05\",\"2022-08-13 01:10\",\"2022-08-13 01:15\"],\"xaxis\":\"x\",\"y\":[0.305,0.305,0.306,0.305,0.294,0.299,0.281,0.276,0.339,0.318,0.327,0.308,0.305,0.304,0.283,0.241],\"yaxis\":\"y\",\"type\":\"scatter\"},{\"hovertemplate\":\"variable=radiationDosePower<br>xAxis=%{x}<br>value=%{y}<extra></extra>\",\"legendgroup\":\"radiationDosePower\",\"line\":{\"color\":\"#00cc96\",\"dash\":\"solid\"},\"marker\":{\"symbol\":\"circle\"},\"mode\":\"lines\",\"name\":\"radiationDosePower\",\"orientation\":\"v\",\"showlegend\":true,\"x\":[\"2022-08-13 00:00\",\"2022-08-13 00:05\",\"2022-08-13 00:10\",\"2022-08-13 00:15\",\"2022-08-13 00:20\",\"2022-08-13 00:25\",\"2022-08-13 00:30\",\"2022-08-13 00:35\",\"2022-08-13 00:40\",\"2022-08-13 00:45\",\"2022-08-13 00:50\",\"2022-08-13 00:55\",\"2022-08-13 01:00\",\"2022-08-13 01:05\",\"2022-08-13 01:10\",\"2022-08-13 01:15\"],\"xaxis\":\"x\",\"y\":[0.0,0.0,0.0,0.0,0.0,0.0,0.0,0.0,0.0,0.0,0.0,0.0,0.0,0.0,0.0,0.0],\"yaxis\":\"y\",\"type\":\"scatter\"},{\"hovertemplate\":\"variable=chargePower<br>xAxis=%{x}<br>value=%{y}<extra></extra>\",\"legendgroup\":\"chargePower\",\"line\":{\"color\":\"#ab63fa\",\"dash\":\"solid\"},\"marker\":{\"symbol\":\"circle\"},\"mode\":\"lines\",\"name\":\"chargePower\",\"orientation\":\"v\",\"showlegend\":true,\"x\":[\"2022-08-13 00:00\",\"2022-08-13 00:05\",\"2022-08-13 00:10\",\"2022-08-13 00:15\",\"2022-08-13 00:20\",\"2022-08-13 00:25\",\"2022-08-13 00:30\",\"2022-08-13 00:35\",\"2022-08-13 00:40\",\"2022-08-13 00:45\",\"2022-08-13 00:50\",\"2022-08-13 00:55\",\"2022-08-13 01:00\",\"2022-08-13 01:05\",\"2022-08-13 01:10\",\"2022-08-13 01:15\"],\"xaxis\":\"x\",\"y\":[0.0,0.0,0.0,0.0,0.0,0.0,0.0,0.0,0.0,0.0,0.0,0.0,0.0,0.0,0.0,0.0],\"yaxis\":\"y\",\"type\":\"scatter\"},{\"hovertemplate\":\"variable=onGridPower<br>xAxis=%{x}<br>value=%{y}<extra></extra>\",\"legendgroup\":\"onGridPower\",\"line\":{\"color\":\"#FFA15A\",\"dash\":\"solid\"},\"marker\":{\"symbol\":\"circle\"},\"mode\":\"lines\",\"name\":\"onGridPower\",\"orientation\":\"v\",\"showlegend\":true,\"x\":[\"2022-08-13 00:00\",\"2022-08-13 00:05\",\"2022-08-13 00:10\",\"2022-08-13 00:15\",\"2022-08-13 00:20\",\"2022-08-13 00:25\",\"2022-08-13 00:30\",\"2022-08-13 00:35\",\"2022-08-13 00:40\",\"2022-08-13 00:45\",\"2022-08-13 00:50\",\"2022-08-13 00:55\",\"2022-08-13 01:00\",\"2022-08-13 01:05\",\"2022-08-13 01:10\",\"2022-08-13 01:15\"],\"xaxis\":\"x\",\"y\":[0.0,0.0,0.0,0.0,0.0,0.009,0.0,0.0,0.0,0.0,0.0,0.018,0.007,0.0,0.003,0.0],\"yaxis\":\"y\",\"type\":\"scatter\"},{\"hovertemplate\":\"variable=disGridPower<br>xAxis=%{x}<br>value=%{y}<extra></extra>\",\"legendgroup\":\"disGridPower\",\"line\":{\"color\":\"#19d3f3\",\"dash\":\"solid\"},\"marker\":{\"symbol\":\"circle\"},\"mode\":\"lines\",\"name\":\"disGridPower\",\"orientation\":\"v\",\"showlegend\":true,\"x\":[\"2022-08-13 00:00\",\"2022-08-13 00:05\",\"2022-08-13 00:10\",\"2022-08-13 00:15\",\"2022-08-13 00:20\",\"2022-08-13 00:25\",\"2022-08-13 00:30\",\"2022-08-13 00:35\",\"2022-08-13 00:40\",\"2022-08-13 00:45\",\"2022-08-13 00:50\",\"2022-08-13 00:55\",\"2022-08-13 01:00\",\"2022-08-13 01:05\",\"2022-08-13 01:10\",\"2022-08-13 01:15\"],\"xaxis\":\"x\",\"y\":[0.006,0.01,0.003,0.0,0.003,0.0,0.0,0.0,0.005,0.0,0.01,0.0,0.0,0.007,0.0,0.006],\"yaxis\":\"y\",\"type\":\"scatter\"},{\"hovertemplate\":\"variable=productPower<br>xAxis=%{x}<br>value=%{y}<extra></extra>\",\"legendgroup\":\"productPower\",\"line\":{\"color\":\"#FF6692\",\"dash\":\"solid\"},\"marker\":{\"symbol\":\"circle\"},\"mode\":\"lines\",\"name\":\"productPower\",\"orientation\":\"v\",\"showlegend\":true,\"x\":[\"2022-08-13 00:00\",\"2022-08-13 00:05\",\"2022-08-13 00:10\",\"2022-08-13 00:15\",\"2022-08-13 00:20\",\"2022-08-13 00:25\",\"2022-08-13 00:30\",\"2022-08-13 00:35\",\"2022-08-13 00:40\",\"2022-08-13 00:45\",\"2022-08-13 00:50\",\"2022-08-13 00:55\",\"2022-08-13 01:00\",\"2022-08-13 01:05\",\"2022-08-13 01:10\",\"2022-08-13 01:15\"],\"xaxis\":\"x\",\"y\":[0.0,0.0,0.0,0.0,0.0,0.0,0.0,0.0,0.0,0.0,0.0,0.0,0.0,0.0,0.0,0.0],\"yaxis\":\"y\",\"type\":\"scatter\"},{\"hovertemplate\":\"variable=usePower<br>xAxis=%{x}<br>value=%{y}<extra></extra>\",\"legendgroup\":\"usePower\",\"line\":{\"color\":\"#B6E880\",\"dash\":\"solid\"},\"marker\":{\"symbol\":\"circle\"},\"mode\":\"lines\",\"name\":\"usePower\",\"orientation\":\"v\",\"showlegend\":true,\"x\":[\"2022-08-13 00:00\",\"2022-08-13 00:05\",\"2022-08-13 00:10\",\"2022-08-13 00:15\",\"2022-08-13 00:20\",\"2022-08-13 00:25\",\"2022-08-13 00:30\",\"2022-08-13 00:35\",\"2022-08-13 00:40\",\"2022-08-13 00:45\",\"2022-08-13 00:50\",\"2022-08-13 00:55\",\"2022-08-13 01:00\",\"2022-08-13 01:05\",\"2022-08-13 01:10\",\"2022-08-13 01:15\"],\"xaxis\":\"x\",\"y\":[0.303,0.288,0.309,0.298,0.295,0.294,0.294,0.274,0.343,0.316,0.313,0.308,0.3,0.328,0.321,0.251],\"yaxis\":\"y\",\"type\":\"scatter\"}],                        {\"template\":{\"data\":{\"bar\":[{\"error_x\":{\"color\":\"#2a3f5f\"},\"error_y\":{\"color\":\"#2a3f5f\"},\"marker\":{\"line\":{\"color\":\"#E5ECF6\",\"width\":0.5},\"pattern\":{\"fillmode\":\"overlay\",\"size\":10,\"solidity\":0.2}},\"type\":\"bar\"}],\"barpolar\":[{\"marker\":{\"line\":{\"color\":\"#E5ECF6\",\"width\":0.5},\"pattern\":{\"fillmode\":\"overlay\",\"size\":10,\"solidity\":0.2}},\"type\":\"barpolar\"}],\"carpet\":[{\"aaxis\":{\"endlinecolor\":\"#2a3f5f\",\"gridcolor\":\"white\",\"linecolor\":\"white\",\"minorgridcolor\":\"white\",\"startlinecolor\":\"#2a3f5f\"},\"baxis\":{\"endlinecolor\":\"#2a3f5f\",\"gridcolor\":\"white\",\"linecolor\":\"white\",\"minorgridcolor\":\"white\",\"startlinecolor\":\"#2a3f5f\"},\"type\":\"carpet\"}],\"choropleth\":[{\"colorbar\":{\"outlinewidth\":0,\"ticks\":\"\"},\"type\":\"choropleth\"}],\"contour\":[{\"colorbar\":{\"outlinewidth\":0,\"ticks\":\"\"},\"colorscale\":[[0.0,\"#0d0887\"],[0.1111111111111111,\"#46039f\"],[0.2222222222222222,\"#7201a8\"],[0.3333333333333333,\"#9c179e\"],[0.4444444444444444,\"#bd3786\"],[0.5555555555555556,\"#d8576b\"],[0.6666666666666666,\"#ed7953\"],[0.7777777777777778,\"#fb9f3a\"],[0.8888888888888888,\"#fdca26\"],[1.0,\"#f0f921\"]],\"type\":\"contour\"}],\"contourcarpet\":[{\"colorbar\":{\"outlinewidth\":0,\"ticks\":\"\"},\"type\":\"contourcarpet\"}],\"heatmap\":[{\"colorbar\":{\"outlinewidth\":0,\"ticks\":\"\"},\"colorscale\":[[0.0,\"#0d0887\"],[0.1111111111111111,\"#46039f\"],[0.2222222222222222,\"#7201a8\"],[0.3333333333333333,\"#9c179e\"],[0.4444444444444444,\"#bd3786\"],[0.5555555555555556,\"#d8576b\"],[0.6666666666666666,\"#ed7953\"],[0.7777777777777778,\"#fb9f3a\"],[0.8888888888888888,\"#fdca26\"],[1.0,\"#f0f921\"]],\"type\":\"heatmap\"}],\"heatmapgl\":[{\"colorbar\":{\"outlinewidth\":0,\"ticks\":\"\"},\"colorscale\":[[0.0,\"#0d0887\"],[0.1111111111111111,\"#46039f\"],[0.2222222222222222,\"#7201a8\"],[0.3333333333333333,\"#9c179e\"],[0.4444444444444444,\"#bd3786\"],[0.5555555555555556,\"#d8576b\"],[0.6666666666666666,\"#ed7953\"],[0.7777777777777778,\"#fb9f3a\"],[0.8888888888888888,\"#fdca26\"],[1.0,\"#f0f921\"]],\"type\":\"heatmapgl\"}],\"histogram\":[{\"marker\":{\"pattern\":{\"fillmode\":\"overlay\",\"size\":10,\"solidity\":0.2}},\"type\":\"histogram\"}],\"histogram2d\":[{\"colorbar\":{\"outlinewidth\":0,\"ticks\":\"\"},\"colorscale\":[[0.0,\"#0d0887\"],[0.1111111111111111,\"#46039f\"],[0.2222222222222222,\"#7201a8\"],[0.3333333333333333,\"#9c179e\"],[0.4444444444444444,\"#bd3786\"],[0.5555555555555556,\"#d8576b\"],[0.6666666666666666,\"#ed7953\"],[0.7777777777777778,\"#fb9f3a\"],[0.8888888888888888,\"#fdca26\"],[1.0,\"#f0f921\"]],\"type\":\"histogram2d\"}],\"histogram2dcontour\":[{\"colorbar\":{\"outlinewidth\":0,\"ticks\":\"\"},\"colorscale\":[[0.0,\"#0d0887\"],[0.1111111111111111,\"#46039f\"],[0.2222222222222222,\"#7201a8\"],[0.3333333333333333,\"#9c179e\"],[0.4444444444444444,\"#bd3786\"],[0.5555555555555556,\"#d8576b\"],[0.6666666666666666,\"#ed7953\"],[0.7777777777777778,\"#fb9f3a\"],[0.8888888888888888,\"#fdca26\"],[1.0,\"#f0f921\"]],\"type\":\"histogram2dcontour\"}],\"mesh3d\":[{\"colorbar\":{\"outlinewidth\":0,\"ticks\":\"\"},\"type\":\"mesh3d\"}],\"parcoords\":[{\"line\":{\"colorbar\":{\"outlinewidth\":0,\"ticks\":\"\"}},\"type\":\"parcoords\"}],\"pie\":[{\"automargin\":true,\"type\":\"pie\"}],\"scatter\":[{\"marker\":{\"colorbar\":{\"outlinewidth\":0,\"ticks\":\"\"}},\"type\":\"scatter\"}],\"scatter3d\":[{\"line\":{\"colorbar\":{\"outlinewidth\":0,\"ticks\":\"\"}},\"marker\":{\"colorbar\":{\"outlinewidth\":0,\"ticks\":\"\"}},\"type\":\"scatter3d\"}],\"scattercarpet\":[{\"marker\":{\"colorbar\":{\"outlinewidth\":0,\"ticks\":\"\"}},\"type\":\"scattercarpet\"}],\"scattergeo\":[{\"marker\":{\"colorbar\":{\"outlinewidth\":0,\"ticks\":\"\"}},\"type\":\"scattergeo\"}],\"scattergl\":[{\"marker\":{\"colorbar\":{\"outlinewidth\":0,\"ticks\":\"\"}},\"type\":\"scattergl\"}],\"scattermapbox\":[{\"marker\":{\"colorbar\":{\"outlinewidth\":0,\"ticks\":\"\"}},\"type\":\"scattermapbox\"}],\"scatterpolar\":[{\"marker\":{\"colorbar\":{\"outlinewidth\":0,\"ticks\":\"\"}},\"type\":\"scatterpolar\"}],\"scatterpolargl\":[{\"marker\":{\"colorbar\":{\"outlinewidth\":0,\"ticks\":\"\"}},\"type\":\"scatterpolargl\"}],\"scatterternary\":[{\"marker\":{\"colorbar\":{\"outlinewidth\":0,\"ticks\":\"\"}},\"type\":\"scatterternary\"}],\"surface\":[{\"colorbar\":{\"outlinewidth\":0,\"ticks\":\"\"},\"colorscale\":[[0.0,\"#0d0887\"],[0.1111111111111111,\"#46039f\"],[0.2222222222222222,\"#7201a8\"],[0.3333333333333333,\"#9c179e\"],[0.4444444444444444,\"#bd3786\"],[0.5555555555555556,\"#d8576b\"],[0.6666666666666666,\"#ed7953\"],[0.7777777777777778,\"#fb9f3a\"],[0.8888888888888888,\"#fdca26\"],[1.0,\"#f0f921\"]],\"type\":\"surface\"}],\"table\":[{\"cells\":{\"fill\":{\"color\":\"#EBF0F8\"},\"line\":{\"color\":\"white\"}},\"header\":{\"fill\":{\"color\":\"#C8D4E3\"},\"line\":{\"color\":\"white\"}},\"type\":\"table\"}]},\"layout\":{\"annotationdefaults\":{\"arrowcolor\":\"#2a3f5f\",\"arrowhead\":0,\"arrowwidth\":1},\"autotypenumbers\":\"strict\",\"coloraxis\":{\"colorbar\":{\"outlinewidth\":0,\"ticks\":\"\"}},\"colorscale\":{\"diverging\":[[0,\"#8e0152\"],[0.1,\"#c51b7d\"],[0.2,\"#de77ae\"],[0.3,\"#f1b6da\"],[0.4,\"#fde0ef\"],[0.5,\"#f7f7f7\"],[0.6,\"#e6f5d0\"],[0.7,\"#b8e186\"],[0.8,\"#7fbc41\"],[0.9,\"#4d9221\"],[1,\"#276419\"]],\"sequential\":[[0.0,\"#0d0887\"],[0.1111111111111111,\"#46039f\"],[0.2222222222222222,\"#7201a8\"],[0.3333333333333333,\"#9c179e\"],[0.4444444444444444,\"#bd3786\"],[0.5555555555555556,\"#d8576b\"],[0.6666666666666666,\"#ed7953\"],[0.7777777777777778,\"#fb9f3a\"],[0.8888888888888888,\"#fdca26\"],[1.0,\"#f0f921\"]],\"sequentialminus\":[[0.0,\"#0d0887\"],[0.1111111111111111,\"#46039f\"],[0.2222222222222222,\"#7201a8\"],[0.3333333333333333,\"#9c179e\"],[0.4444444444444444,\"#bd3786\"],[0.5555555555555556,\"#d8576b\"],[0.6666666666666666,\"#ed7953\"],[0.7777777777777778,\"#fb9f3a\"],[0.8888888888888888,\"#fdca26\"],[1.0,\"#f0f921\"]]},\"colorway\":[\"#636efa\",\"#EF553B\",\"#00cc96\",\"#ab63fa\",\"#FFA15A\",\"#19d3f3\",\"#FF6692\",\"#B6E880\",\"#FF97FF\",\"#FECB52\"],\"font\":{\"color\":\"#2a3f5f\"},\"geo\":{\"bgcolor\":\"white\",\"lakecolor\":\"white\",\"landcolor\":\"#E5ECF6\",\"showlakes\":true,\"showland\":true,\"subunitcolor\":\"white\"},\"hoverlabel\":{\"align\":\"left\"},\"hovermode\":\"closest\",\"mapbox\":{\"style\":\"light\"},\"paper_bgcolor\":\"white\",\"plot_bgcolor\":\"#E5ECF6\",\"polar\":{\"angularaxis\":{\"gridcolor\":\"white\",\"linecolor\":\"white\",\"ticks\":\"\"},\"bgcolor\":\"#E5ECF6\",\"radialaxis\":{\"gridcolor\":\"white\",\"linecolor\":\"white\",\"ticks\":\"\"}},\"scene\":{\"xaxis\":{\"backgroundcolor\":\"#E5ECF6\",\"gridcolor\":\"white\",\"gridwidth\":2,\"linecolor\":\"white\",\"showbackground\":true,\"ticks\":\"\",\"zerolinecolor\":\"white\"},\"yaxis\":{\"backgroundcolor\":\"#E5ECF6\",\"gridcolor\":\"white\",\"gridwidth\":2,\"linecolor\":\"white\",\"showbackground\":true,\"ticks\":\"\",\"zerolinecolor\":\"white\"},\"zaxis\":{\"backgroundcolor\":\"#E5ECF6\",\"gridcolor\":\"white\",\"gridwidth\":2,\"linecolor\":\"white\",\"showbackground\":true,\"ticks\":\"\",\"zerolinecolor\":\"white\"}},\"shapedefaults\":{\"line\":{\"color\":\"#2a3f5f\"}},\"ternary\":{\"aaxis\":{\"gridcolor\":\"white\",\"linecolor\":\"white\",\"ticks\":\"\"},\"baxis\":{\"gridcolor\":\"white\",\"linecolor\":\"white\",\"ticks\":\"\"},\"bgcolor\":\"#E5ECF6\",\"caxis\":{\"gridcolor\":\"white\",\"linecolor\":\"white\",\"ticks\":\"\"}},\"title\":{\"x\":0.05},\"xaxis\":{\"automargin\":true,\"gridcolor\":\"white\",\"linecolor\":\"white\",\"ticks\":\"\",\"title\":{\"standoff\":15},\"zerolinecolor\":\"white\",\"zerolinewidth\":2},\"yaxis\":{\"automargin\":true,\"gridcolor\":\"white\",\"linecolor\":\"white\",\"ticks\":\"\",\"title\":{\"standoff\":15},\"zerolinecolor\":\"white\",\"zerolinewidth\":2}}},\"xaxis\":{\"anchor\":\"y\",\"domain\":[0.0,1.0],\"title\":{\"text\":\"xAxis\"}},\"yaxis\":{\"anchor\":\"x\",\"domain\":[0.0,1.0],\"title\":{\"text\":\"value\"}},\"legend\":{\"title\":{\"text\":\"variable\"},\"tracegroupgap\":0},\"margin\":{\"t\":60}},                        {\"responsive\": true}                    ).then(function(){\n",
       "                            \n",
       "var gd = document.getElementById('678bb011-017a-49dc-8d18-62b17788bfd7');\n",
       "var x = new MutationObserver(function (mutations, observer) {{\n",
       "        var display = window.getComputedStyle(gd).display;\n",
       "        if (!display || display === 'none') {{\n",
       "            console.log([gd, 'removed!']);\n",
       "            Plotly.purge(gd);\n",
       "            observer.disconnect();\n",
       "        }}\n",
       "}});\n",
       "\n",
       "// Listen for the removal of the full notebook cells\n",
       "var notebookContainer = gd.closest('#notebook-container');\n",
       "if (notebookContainer) {{\n",
       "    x.observe(notebookContainer, {childList: true});\n",
       "}}\n",
       "\n",
       "// Listen for the clearing of the current output cell\n",
       "var outputEl = gd.closest('.output');\n",
       "if (outputEl) {{\n",
       "    x.observe(outputEl, {childList: true});\n",
       "}}\n",
       "\n",
       "                        })                };                });            </script>        </div>"
      ]
     },
     "metadata": {},
     "output_type": "display_data"
    }
   ],
   "source": [
    "import time\n",
    "import datetime\n",
    "import pandas\n",
    "pandas.options.plotting.backend = \"plotly\"\n",
    "\n",
    "d = datetime.datetime.now()\n",
    "# d = datetime.datetime(2022,11,1)\n",
    "dt = datetime.datetime(\n",
    "    year=d.year,\n",
    "    month=d.month,\n",
    "    day=d.day,\n",
    ")\n",
    "query_time= int(dt.timestamp())*1000\n",
    "\n",
    "# plant_data=client.get_plant_stats(plant_ids[0], query_time=query_time)\n",
    "plant_data=client.get_plant_stats(plant_ids[0])\n",
    "\n",
    "keys=list(plant_data.keys())\n",
    "for key in keys:\n",
    "    if type(plant_data[key]) is not list:\n",
    "        plant_data.pop(key)\n",
    "df=(pandas.DataFrame\n",
    "    .from_dict(plant_data)\n",
    "    .set_index('xAxis')\n",
    "    .replace({'--':None})\n",
    "    .dropna(axis=0, how='all') # if we queried the current day, then the future timestamps should be dropped\n",
    "    .replace({None:0})\n",
    "    .astype('float')\n",
    "    )\n",
    "df.plot()"
   ]
  },
  {
   "cell_type": "code",
   "execution_count": 30,
   "metadata": {},
   "outputs": [
    {
     "data": {
      "text/plain": [
       "{'selfUsePower': 0.0,\n",
       " 'dischargePower': 0.241,\n",
       " 'radiationDosePower': 0.0,\n",
       " 'chargePower': 0.0,\n",
       " 'onGridPower': 0.0,\n",
       " 'disGridPower': 0.006,\n",
       " 'productPower': 0.0,\n",
       " 'usePower': 0.251}"
      ]
     },
     "execution_count": 30,
     "metadata": {},
     "output_type": "execute_result"
    }
   ],
   "source": [
    "df.iloc[-1].to_dict() #get latest entry"
   ]
  },
  {
   "cell_type": "code",
   "execution_count": 59,
   "metadata": {},
   "outputs": [
    {
     "data": {
      "text/plain": [
       "{'Power Sensor': 'NE=34026686',\n",
       " 'Battery': 'NE=34027429',\n",
       " 'Dongle': 'NE=33999463',\n",
       " 'Inverter': 'NE=34010450'}"
      ]
     },
     "execution_count": 59,
     "metadata": {},
     "output_type": "execute_result"
    }
   ],
   "source": [
    "url=f'https://{client._huawei_subdomain}.fusionsolar.huawei.com/rest/neteco/web/config/device/v1/device-list'\n",
    "params={\n",
    "    # 'conditionParams.checkShareStationDn': client._parent_id, #\"NE=33559773\",\n",
    "    'conditionParams.parentDn':  'NE=33559773', #client._parent_id,# ,NE=34010450\n",
    "    # 'conditionParams.curPage': 1,\n",
    "    # 'conditionParams.recordperpage': 10,\n",
    "    'conditionParams.mocTypes': '20814,20815,20816,20819,20822,50017,60066,60014,60015,23037', # specifies the types of devices\n",
    "    # 'conditionParams.signals': \"10001\", #10046,10047,21001,21002,21003,50001,50002,50003,50004,50005,50006,50007,50008,50009,50010,50011,50012,50013,50014,50015,22049,21020,21009,50017,20004\",\n",
    "    '_': round(time.time() * 1000)\n",
    "}\n",
    "r = client._session.get(url=url, params=params)\n",
    "r.raise_for_status()\n",
    "r.json()\n",
    "\n",
    "device_key={}\n",
    "for device in r.json()['data']:\n",
    "    device_key[device['mocTypeName']]=device['dn']\n",
    "# self._device_key=device_key\n",
    "device_key"
   ]
  },
  {
   "cell_type": "code",
   "execution_count": 40,
   "metadata": {},
   "outputs": [],
   "source": [
    "login_data = client._send_request(\n",
    "            url=f\"https://{client._huawei_subdomain}.fusionsolar.huawei.com/unisess/v1/auth/session\")\n",
    "client._session.headers[\"roarand\"]=login_data['csrfToken']\n",
    "\n",
    "\n",
    "url = \"https://region04eu5.fusionsolar.huawei.com/rest/pvms/web/device/v1/deviceExt/set-config-signals\"\n",
    "\n",
    "\n",
    "data = {\"dn\": client._device_key['Dongle'], \"changeValues\": '[{\"id\":\"230190032\",\"value\":\"0\"}]'} \n",
    "# 230190032 stands for \"Active Power Control\"\n",
    "#these are the options for value:\n",
    "# {0: \"No limit\",\n",
    "# 5: \"Zero Export Limitation\",\n",
    "# 6: \"Limited Power Grid (kW)\",\n",
    "# 7: \"Limited Power Grid (%)\"}\n",
    "\n",
    "r = client._session.post(url, data=data)\n",
    "\n",
    "print(r.status_code)\n",
    "print(r.json())"
   ]
  }
 ],
 "metadata": {
  "kernelspec": {
   "display_name": "Python 3.10.4 ('huis')",
   "language": "python",
   "name": "python3"
  },
  "language_info": {
   "codemirror_mode": {
    "name": "ipython",
    "version": 3
   },
   "file_extension": ".py",
   "mimetype": "text/x-python",
   "name": "python",
   "nbconvert_exporter": "python",
   "pygments_lexer": "ipython3",
   "version": "3.10.4"
  },
  "orig_nbformat": 4,
  "vscode": {
   "interpreter": {
    "hash": "1d0b768e2b76c2537c749061f5993f0ad055a5baf8d4865276f027f00fed732e"
   }
  }
 },
 "nbformat": 4,
 "nbformat_minor": 2
}
